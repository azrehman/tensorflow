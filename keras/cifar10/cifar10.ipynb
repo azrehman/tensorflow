{
 "cells": [
  {
   "cell_type": "code",
   "execution_count": 1,
   "metadata": {},
   "outputs": [],
   "source": [
    "from time import localtime, strftime\n",
    "import matplotlib.pyplot as plt\n",
    "import tensorflow as tf\n",
    "from tensorflow.keras.models import Sequential\n",
    "from tensorflow.keras.layers import (\n",
    "    Dense, Dropout, Activation, Flatten, Conv2D, MaxPooling2D)\n",
    "\n",
    "from tensorflow.keras.callbacks import TensorBoard\n"
   ]
  },
  {
   "cell_type": "code",
   "execution_count": 2,
   "metadata": {},
   "outputs": [
    {
     "data": {
      "text/plain": [
       "'2.2.0'"
      ]
     },
     "execution_count": 2,
     "metadata": {},
     "output_type": "execute_result"
    }
   ],
   "source": [
    "tf.__version__"
   ]
  },
  {
   "cell_type": "code",
   "execution_count": 3,
   "metadata": {},
   "outputs": [],
   "source": [
    "# set up tensorboard keras callback to visualize learning\n",
    "curr_time = strftime('time-%H-%M', localtime())\n",
    "architecture = '32x32x128x10'\n",
    "MODEL_NAME = f'cifar10-CNN-{architecture}-{curr_time}'\n",
    "tensorboard = TensorBoard(log_dir=f'cifar10_logs/{MODEL_NAME}')"
   ]
  },
  {
   "cell_type": "code",
   "execution_count": 4,
   "metadata": {},
   "outputs": [],
   "source": [
    "# retrieve and load data\n",
    "(X_train, y_train), (X_test, y_test) = tf.keras.datasets.cifar10.load_data()\n",
    "\n",
    "# Keras: X_train, X_test: uint8 arrays of RGB image data with shape (num_samples, 3, 32, 32)\n",
    "# Keras: y_train, y_test: uint8 arrays of category labels (integers in range 0-9) each with shape (num_samples, 1) "
   ]
  },
  {
   "cell_type": "code",
   "execution_count": 5,
   "metadata": {},
   "outputs": [
    {
     "data": {
      "image/png": "[encoded data removed]",
      "text/plain": [
       "<Figure size 432x288 with 1 Axes>"
      ]
     },
     "metadata": {
      "needs_background": "light"
     },
     "output_type": "display_data"
    },
    {
     "name": "stdout",
     "output_type": "stream",
     "text": [
      "[7]\n"
     ]
    },
    {
     "data": {
      "text/plain": [
       "\"\\nclasses:\\n[0] = 'airplane'\\n[1] = 'automobile'\\n[2] = 'bird'\\n[3] = 'cat'\\n[4] = 'deer'\\n[5] = 'dog'\\n[6] = 'frog'\\n[7] = 'horse'\\n[8] = 'ship'\\n[9] = 'truck'\\n\""
      ]
     },
     "execution_count": 5,
     "metadata": {},
     "output_type": "execute_result"
    }
   ],
   "source": [
    "# visualize raw sample data\n",
    "plt.imshow(X_train[12], interpolation='nearest')\n",
    "plt.show()\n",
    "print(y_train[12])\n",
    "\n",
    "'''\n",
    "classes:\n",
    "[0] = 'airplane'\n",
    "[1] = 'automobile'\n",
    "[2] = 'bird'\n",
    "[3] = 'cat'\n",
    "[4] = 'deer'\n",
    "[5] = 'dog'\n",
    "[6] = 'frog'\n",
    "[7] = 'horse'\n",
    "[8] = 'ship'\n",
    "[9] = 'truck'\n",
    "'''"
   ]
  },
  {
   "cell_type": "code",
   "execution_count": 6,
   "metadata": {},
   "outputs": [],
   "source": [
    "# normalize data\n",
    "X_train = tf.keras.utils.normalize(X_train, axis=1)\n",
    "X_test = tf.keras.utils.normalize(X_test, axis=1)"
   ]
  },
  {
   "cell_type": "code",
   "execution_count": 7,
   "metadata": {},
   "outputs": [
    {
     "data": {
      "image/png": "[encoded data removed]",
      "text/plain": [
       "<Figure size 432x288 with 1 Axes>"
      ]
     },
     "metadata": {
      "needs_background": "light"
     },
     "output_type": "display_data"
    },
    {
     "name": "stdout",
     "output_type": "stream",
     "text": [
      "[7]\n"
     ]
    }
   ],
   "source": [
    "# visualize normalized sample\n",
    "plt.imshow(X_train[12], interpolation='nearest')\n",
    "plt.show()\n",
    "print(y_train[12])"
   ]
  },
  {
   "cell_type": "code",
   "execution_count": 8,
   "metadata": {},
   "outputs": [],
   "source": [
    "# training paramaters\n",
    "batch_size = 10\n",
    "n_epochs = 20"
   ]
  },
  {
   "cell_type": "code",
   "execution_count": 9,
   "metadata": {},
   "outputs": [
    {
     "name": "stdout",
     "output_type": "stream",
     "text": [
      "Epoch 1/20\n",
      "5000/5000 [==============================] - 141s 28ms/step - loss: 1.7949 - accuracy: 0.3456 - val_loss: 1.4703 - val_accuracy: 0.4743\n",
      "Epoch 2/20\n",
      "5000/5000 [==============================] - 131s 26ms/step - loss: 1.5123 - accuracy: 0.4606 - val_loss: 1.3136 - val_accuracy: 0.5395\n",
      "Epoch 3/20\n",
      "5000/5000 [==============================] - 132s 26ms/step - loss: 1.4213 - accuracy: 0.4951 - val_loss: 1.2342 - val_accuracy: 0.5697\n",
      "Epoch 4/20\n",
      "5000/5000 [==============================] - 130s 26ms/step - loss: 1.3635 - accuracy: 0.5184 - val_loss: 1.1986 - val_accuracy: 0.5792\n",
      "Epoch 5/20\n",
      "5000/5000 [==============================] - 130s 26ms/step - loss: 1.3228 - accuracy: 0.5367 - val_loss: 1.2139 - val_accuracy: 0.5757\n",
      "Epoch 6/20\n",
      "5000/5000 [==============================] - 128s 26ms/step - loss: 1.2961 - accuracy: 0.5427 - val_loss: 1.1360 - val_accuracy: 0.6032\n",
      "Epoch 7/20\n",
      "5000/5000 [==============================] - 130s 26ms/step - loss: 1.2695 - accuracy: 0.5552 - val_loss: 1.1284 - val_accuracy: 0.6080\n",
      "Epoch 8/20\n",
      "5000/5000 [==============================] - 129s 26ms/step - loss: 1.2488 - accuracy: 0.5618 - val_loss: 1.0836 - val_accuracy: 0.6202\n",
      "Epoch 9/20\n",
      "5000/5000 [==============================] - 131s 26ms/step - loss: 1.2276 - accuracy: 0.5724 - val_loss: 1.1250 - val_accuracy: 0.6059\n",
      "Epoch 10/20\n",
      "5000/5000 [==============================] - 128s 26ms/step - loss: 1.2119 - accuracy: 0.5728 - val_loss: 1.1214 - val_accuracy: 0.6042\n",
      "Epoch 11/20\n",
      "5000/5000 [==============================] - 129s 26ms/step - loss: 1.2028 - accuracy: 0.5768 - val_loss: 1.0734 - val_accuracy: 0.6155\n",
      "Epoch 12/20\n",
      "5000/5000 [==============================] - 131s 26ms/step - loss: 1.1909 - accuracy: 0.5838 - val_loss: 1.0479 - val_accuracy: 0.6382\n",
      "Epoch 13/20\n",
      "5000/5000 [==============================] - 129s 26ms/step - loss: 1.1825 - accuracy: 0.5846 - val_loss: 1.0477 - val_accuracy: 0.6312\n",
      "Epoch 14/20\n",
      "5000/5000 [==============================] - 128s 26ms/step - loss: 1.1687 - accuracy: 0.5914 - val_loss: 1.0404 - val_accuracy: 0.6358\n",
      "Epoch 15/20\n",
      "5000/5000 [==============================] - 130s 26ms/step - loss: 1.1553 - accuracy: 0.5956 - val_loss: 1.0049 - val_accuracy: 0.6472\n",
      "Epoch 16/20\n",
      "5000/5000 [==============================] - 128s 26ms/step - loss: 1.1498 - accuracy: 0.5960 - val_loss: 1.0102 - val_accuracy: 0.6485\n",
      "Epoch 17/20\n",
      "5000/5000 [==============================] - 130s 26ms/step - loss: 1.1503 - accuracy: 0.5987 - val_loss: 1.0303 - val_accuracy: 0.6394\n",
      "Epoch 18/20\n",
      "5000/5000 [==============================] - 130s 26ms/step - loss: 1.1345 - accuracy: 0.6026 - val_loss: 1.0219 - val_accuracy: 0.6439\n",
      "Epoch 19/20\n",
      "5000/5000 [==============================] - 138s 28ms/step - loss: 1.1272 - accuracy: 0.6052 - val_loss: 0.9771 - val_accuracy: 0.6569\n",
      "Epoch 20/20\n",
      "5000/5000 [==============================] - 142s 28ms/step - loss: 1.1198 - accuracy: 0.6089 - val_loss: 0.9772 - val_accuracy: 0.6641\n"
     ]
    },
    {
     "data": {
      "text/plain": [
       "<tensorflow.python.keras.callbacks.History at 0x170e024df48>"
      ]
     },
     "execution_count": 9,
     "metadata": {},
     "output_type": "execute_result"
    }
   ],
   "source": [
    "# Create model architecture\n",
    "\n",
    "model = Sequential()\n",
    "\n",
    "# first layer\n",
    "model.add(Conv2D(filters=32, kernel_size=(3, 3), input_shape=X_train.shape[1:]))\n",
    "model.add(Activation('relu'))\n",
    "model.add(MaxPooling2D(pool_size=(2, 2)))\n",
    "model.add(Dropout(0.25))\n",
    "\n",
    "# second layer\n",
    "model.add(Conv2D(filters=32, kernel_size=(3, 3)))\n",
    "model.add(Activation('relu'))\n",
    "model.add(MaxPooling2D(pool_size=(2, 2)))\n",
    "model.add(Dropout(0.25))\n",
    "\n",
    "# convert 3D feature maps to 1D vectors\n",
    "model.add(Flatten())\n",
    "model.add(Dense(128))\n",
    "model.add(Activation('relu'))\n",
    "model.add(Dropout(0.5))\n",
    "# output layer \n",
    "model.add(Dense(10))\n",
    "model.add(Activation('softmax'))\n",
    "\n",
    "# specify cost function and optimized\n",
    "model.compile(loss='sparse_categorical_crossentropy',\n",
    "              optimizer='adam',\n",
    "              metrics=['accuracy'])\n",
    "\n",
    "# train model\n",
    "model.fit(X_train, y_train, batch_size=batch_size, epochs=n_epochs, validation_data=(X_test, y_test), callbacks=[tensorboard])\n"
   ]
  },
  {
   "cell_type": "code",
   "execution_count": null,
   "metadata": {},
   "outputs": [],
   "source": []
  }
 ],
 "metadata": {
  "kernelspec": {
   "display_name": "Python 3",
   "language": "python",
   "name": "python3"
  },
  "language_info": {
   "codemirror_mode": {
    "name": "ipython",
    "version": 3
   },
   "file_extension": ".py",
   "mimetype": "text/x-python",
   "name": "python",
   "nbconvert_exporter": "python",
   "pygments_lexer": "ipython3",
   "version": "3.7.6"
  }
 },
 "nbformat": 4,
 "nbformat_minor": 4
}
